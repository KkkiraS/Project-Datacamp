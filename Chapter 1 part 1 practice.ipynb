{
 "cells": [
  {
   "cell_type": "code",
   "execution_count": 47,
   "metadata": {},
   "outputs": [],
   "source": [
    "import numpy as np"
   ]
  },
  {
   "cell_type": "markdown",
   "metadata": {},
   "source": [
    "# 1"
   ]
  },
  {
   "cell_type": "markdown",
   "metadata": {},
   "source": [
    "Займёмся реализацией выборочных моментов в python. Выборка дана, посчитайте, написал вручную(!) формулы. Вам помогут np.sum()и знание того, как в библиотеке numpy происходят арифметические вычисления с массивами."
   ]
  },
  {
   "cell_type": "code",
   "execution_count": 48,
   "metadata": {},
   "outputs": [],
   "source": [
    "array1 = np.array([5, 3, 4, 1, 2, 5, 7, 9])"
   ]
  },
  {
   "cell_type": "code",
   "execution_count": 49,
   "metadata": {},
   "outputs": [],
   "source": [
    "array2 = np.array([4, 3, 2, 0, 1, 9, 11, 9])"
   ]
  },
  {
   "cell_type": "markdown",
   "metadata": {},
   "source": [
    "Вычтите из одного массива другой. Также перемножьте их, и возведите каждый в квадрат - посмотрите на получившиеся рехультаты"
   ]
  },
  {
   "cell_type": "code",
   "execution_count": 50,
   "metadata": {},
   "outputs": [
    {
     "name": "stdout",
     "output_type": "stream",
     "text": [
      "Разница [-39. -34. -39. 111.   0. -39.   0. 371.]\n",
      "Произведение [20  9  8  0  2 45 77 81]\n",
      "Возведение первого в квадрат [25  9 16  1  4 25 49 81]\n"
     ]
    },
    {
     "ename": "NameError",
     "evalue": "name '_____' is not defined",
     "output_type": "error",
     "traceback": [
      "\u001b[1;31m---------------------------------------------------------------------------\u001b[0m",
      "\u001b[1;31mNameError\u001b[0m                                 Traceback (most recent call last)",
      "\u001b[1;32m<ipython-input-50-95df3066b063>\u001b[0m in \u001b[0;36m<module>\u001b[1;34m\u001b[0m\n\u001b[0;32m      2\u001b[0m \u001b[0mprint\u001b[0m\u001b[1;33m(\u001b[0m\u001b[1;34m'Произведение'\u001b[0m\u001b[1;33m,\u001b[0m \u001b[0marray1\u001b[0m \u001b[1;33m*\u001b[0m \u001b[0marray2\u001b[0m\u001b[1;33m)\u001b[0m\u001b[1;33m\u001b[0m\u001b[1;33m\u001b[0m\u001b[0m\n\u001b[0;32m      3\u001b[0m \u001b[0mprint\u001b[0m\u001b[1;33m(\u001b[0m\u001b[1;34m'Возведение первого в квадрат'\u001b[0m\u001b[1;33m,\u001b[0m \u001b[0marray1\u001b[0m \u001b[1;33m**\u001b[0m \u001b[1;36m2\u001b[0m\u001b[1;33m)\u001b[0m\u001b[1;33m\u001b[0m\u001b[1;33m\u001b[0m\u001b[0m\n\u001b[1;32m----> 4\u001b[1;33m \u001b[0mprint\u001b[0m\u001b[1;33m(\u001b[0m\u001b[1;34m'Возведение второго в квадрат'\u001b[0m\u001b[1;33m,\u001b[0m \u001b[0m_____\u001b[0m\u001b[1;33m)\u001b[0m\u001b[1;33m\u001b[0m\u001b[1;33m\u001b[0m\u001b[0m\n\u001b[0m",
      "\u001b[1;31mNameError\u001b[0m: name '_____' is not defined"
     ]
    }
   ],
   "source": [
    "print('Разница', __ - ___)\n",
    "print('Произведение', array1 * array2)\n",
    "print('Возведение первого в квадрат', array1 ** 2)\n",
    "print('Возведение второго в квадрат', _____)"
   ]
  },
  {
   "cell_type": "code",
   "execution_count": 51,
   "metadata": {},
   "outputs": [
    {
     "name": "stdout",
     "output_type": "stream",
     "text": [
      "Разница [ 1  0  2  1  1 -4 -4  0]\n",
      "Произведение [20  9  8  0  2 45 77 81]\n",
      "Возведение первого в квадрат [25  9 16  1  4 25 49 81]\n",
      "Возведение второго в квадрат [ 16   9   4   0   1  81 121  81]\n"
     ]
    }
   ],
   "source": [
    "# answer\n",
    "print('Разница', array1 - array2)\n",
    "print('Произведение', array1 * array2)\n",
    "print('Возведение первого в квадрат', array1 ** 2)\n",
    "print('Возведение второго в квадрат', array2 ** 2)"
   ]
  },
  {
   "cell_type": "markdown",
   "metadata": {},
   "source": [
    "# 2"
   ]
  },
  {
   "cell_type": "markdown",
   "metadata": {},
   "source": [
    "Массивы всё те же. Посчитайте для каждого выборочное среднее, несмещённую выборочную дисперсию и центральный выборочный 3-ий момент. Напомним также, что среднее (mean) - это отношение суммы значений элементов в выборке (sum) к количеству экспериментов."
   ]
  },
  {
   "cell_type": "code",
   "execution_count": 52,
   "metadata": {},
   "outputs": [],
   "source": [
    "array1 = np.array([5, 3, 4, 1, 2, 5, 7, 9])\n",
    "\n",
    "array2 = np.array([4, 3, 2, 0, 1, 9, 11, 9])"
   ]
  },
  {
   "cell_type": "code",
   "execution_count": 53,
   "metadata": {},
   "outputs": [
    {
     "name": "stdout",
     "output_type": "stream",
     "text": [
      "Выборочное среднее для первой выборки 4.8828125\n",
      "Выборочное среднее для второй выборки 4.8828125\n",
      "Несмещенная выборочная дисперсия для первой выборки 39.0625\n"
     ]
    },
    {
     "ename": "NameError",
     "evalue": "name '______' is not defined",
     "output_type": "error",
     "traceback": [
      "\u001b[1;31m---------------------------------------------------------------------------\u001b[0m",
      "\u001b[1;31mNameError\u001b[0m                                 Traceback (most recent call last)",
      "\u001b[1;32m<ipython-input-53-af7400911c5f>\u001b[0m in \u001b[0;36m<module>\u001b[1;34m\u001b[0m\n\u001b[0;32m     10\u001b[0m \u001b[0mprint\u001b[0m\u001b[1;33m(\u001b[0m\u001b[1;34m'Выборочное среднее для второй выборки'\u001b[0m\u001b[1;33m,\u001b[0m \u001b[0m___\u001b[0m \u001b[1;33m/\u001b[0m \u001b[0mn2\u001b[0m\u001b[1;33m)\u001b[0m\u001b[1;33m\u001b[0m\u001b[1;33m\u001b[0m\u001b[0m\n\u001b[0;32m     11\u001b[0m \u001b[0mprint\u001b[0m\u001b[1;33m(\u001b[0m\u001b[1;34m'Несмещенная выборочная дисперсия для первой выборки'\u001b[0m\u001b[1;33m,\u001b[0m \u001b[0mnp\u001b[0m\u001b[1;33m.\u001b[0m\u001b[0msum\u001b[0m\u001b[1;33m(\u001b[0m\u001b[0m___\u001b[0m \u001b[1;33m**\u001b[0m \u001b[1;36m2\u001b[0m\u001b[1;33m)\u001b[0m \u001b[1;33m/\u001b[0m \u001b[1;33m(\u001b[0m\u001b[0m___\u001b[0m\u001b[1;33m)\u001b[0m\u001b[1;33m)\u001b[0m\u001b[1;33m\u001b[0m\u001b[1;33m\u001b[0m\u001b[0m\n\u001b[1;32m---> 12\u001b[1;33m \u001b[0mprint\u001b[0m\u001b[1;33m(\u001b[0m\u001b[1;34m'Несмещенная выборочная дисперсия для второй выборки'\u001b[0m\u001b[1;33m,\u001b[0m \u001b[0m______\u001b[0m\u001b[1;33m)\u001b[0m\u001b[1;33m\u001b[0m\u001b[1;33m\u001b[0m\u001b[0m\n\u001b[0m\u001b[0;32m     13\u001b[0m \u001b[0mprint\u001b[0m\u001b[1;33m(\u001b[0m\u001b[1;34m'Центральный выборочный 3-ий момент для первой выборки'\u001b[0m\u001b[1;33m,\u001b[0m \u001b[0mnp\u001b[0m\u001b[1;33m.\u001b[0m\u001b[0msum\u001b[0m\u001b[1;33m(\u001b[0m\u001b[0motklon1\u001b[0m \u001b[1;33m**\u001b[0m \u001b[0m_\u001b[0m\u001b[1;33m)\u001b[0m \u001b[1;33m/\u001b[0m \u001b[0m__\u001b[0m\u001b[1;33m)\u001b[0m\u001b[1;33m\u001b[0m\u001b[1;33m\u001b[0m\u001b[0m\n\u001b[0;32m     14\u001b[0m \u001b[0mprint\u001b[0m\u001b[1;33m(\u001b[0m\u001b[1;34m'Центральный выборочный 3-ий момент для первой выборки'\u001b[0m\u001b[1;33m,\u001b[0m \u001b[0m_____\u001b[0m\u001b[1;33m)\u001b[0m\u001b[1;33m\u001b[0m\u001b[1;33m\u001b[0m\u001b[0m\n",
      "\u001b[1;31mNameError\u001b[0m: name '______' is not defined"
     ]
    }
   ],
   "source": [
    "# Для упрощения присвоим некоторым переменным значения, которые Вы будете использовать\n",
    "sum1 = array1.sum()\n",
    "sum2 = array1.sum()\n",
    "otklon1 = array1 - array1.mean() # разница между каждым значением выборки и выборочным средним\n",
    "otklon2 = array2 - array2.mean()\n",
    "n1 = len(array1) # Длина массива показывает количество экспериментов\n",
    "n2 = len(array2)\n",
    "\n",
    "print('Выборочное среднее для первой выборки', ___ / n1)\n",
    "print('Выборочное среднее для второй выборки', ___ / n2)\n",
    "print('Несмещенная выборочная дисперсия для первой выборки', np.sum(___ ** 2) / (___))\n",
    "print('Несмещенная выборочная дисперсия для второй выборки', ______)\n",
    "print('Центральный выборочный 3-ий момент для первой выборки', np.sum(otklon1 ** _) / __)\n",
    "print('Центральный выборочный 3-ий момент для первой выборки', _____)"
   ]
  },
  {
   "cell_type": "code",
   "execution_count": 54,
   "metadata": {},
   "outputs": [
    {
     "name": "stdout",
     "output_type": "stream",
     "text": [
      "Выборочное среднее для первой выборки 4.5\n",
      "Выборочное среднее для второй выборки 4.5\n",
      "Несмещенная выборочная дисперсия для первой выборки 6.857142857142857\n",
      "Несмещенная выборочная дисперсия для второй выборки 17.553571428571427\n",
      "Центральный выборочный 3-ий момент для первой выборки 5.625\n",
      "Центральный выборочный 3-ий момент для первой выборки 20.63671875\n"
     ]
    }
   ],
   "source": [
    "# answer\n",
    "# Для упрощения присвоим некоторым переменным значения, которые Вы будете использовать\n",
    "sum1 = array1.sum()\n",
    "sum2 = array1.sum()\n",
    "otklon1 = array1 - array1.mean() # разница между каждым значением выборки и выборочным средним\n",
    "otklon2 = array2 - array2.mean()\n",
    "n1 = len(array1) # Длина массива показывает количество экспериментов\n",
    "n2 = len(array2)\n",
    "\n",
    "print('Выборочное среднее для первой выборки', sum1 / n1)\n",
    "print('Выборочное среднее для второй выборки', sum2 / n2)\n",
    "print('Несмещенная выборочная дисперсия для первой выборки', np.sum(otklon1 ** 2) / (n1 - 1))\n",
    "print('Несмещенная выборочная дисперсия для второй выборки', np.sum(otklon2 ** 2) / (n2 - 1))\n",
    "print('Центральный выборочный 3-ий момент для первой выборки', np.sum(otklon1 ** 3) / n1)\n",
    "print('Центральный выборочный 3-ий момент для первой выборки', np.sum(otklon2 ** 3) / n2)"
   ]
  },
  {
   "cell_type": "markdown",
   "metadata": {},
   "source": [
    "# 3"
   ]
  },
  {
   "cell_type": "markdown",
   "metadata": {},
   "source": [
    "Дана реализация случайной выборки x = (2, 8, 20, 65, 80,23, 60,90, 37, 2, 23, 90, 2). Для данной реализации: \n",
    "1.\tНайдите вариационный ряд (для этого необходимо отсортировать ряд - найдите в документации библиотеки numpy необходимый метод)\n",
    "\n",
    "2.\tНайдите мат ожидание, смещённую дисперсию, стандартное отклонение и медиану(с использованием методов numpy)\n",
    "\n",
    "3.\tНайдите начальный выборочный момент 4 порядка"
   ]
  },
  {
   "cell_type": "code",
   "execution_count": 75,
   "metadata": {},
   "outputs": [
    {
     "ename": "AttributeError",
     "evalue": "module 'numpy' has no attribute '___'",
     "output_type": "error",
     "traceback": [
      "\u001b[1;31m---------------------------------------------------------------------------\u001b[0m",
      "\u001b[1;31mAttributeError\u001b[0m                            Traceback (most recent call last)",
      "\u001b[1;32m<ipython-input-75-94d312368cef>\u001b[0m in \u001b[0;36m<module>\u001b[1;34m\u001b[0m\n\u001b[0;32m      2\u001b[0m \u001b[0mx\u001b[0m \u001b[1;33m=\u001b[0m \u001b[0mnp\u001b[0m\u001b[1;33m.\u001b[0m\u001b[0marray\u001b[0m\u001b[1;33m(\u001b[0m\u001b[1;33m[\u001b[0m\u001b[1;36m2\u001b[0m\u001b[1;33m,\u001b[0m \u001b[1;36m8\u001b[0m\u001b[1;33m,\u001b[0m \u001b[1;36m20\u001b[0m\u001b[1;33m,\u001b[0m \u001b[1;36m65\u001b[0m\u001b[1;33m,\u001b[0m \u001b[1;36m80\u001b[0m\u001b[1;33m,\u001b[0m \u001b[1;36m23\u001b[0m\u001b[1;33m,\u001b[0m \u001b[1;36m60\u001b[0m\u001b[1;33m,\u001b[0m \u001b[1;36m90\u001b[0m\u001b[1;33m,\u001b[0m \u001b[1;36m37\u001b[0m\u001b[1;33m,\u001b[0m \u001b[1;36m2\u001b[0m\u001b[1;33m,\u001b[0m \u001b[1;36m23\u001b[0m\u001b[1;33m,\u001b[0m \u001b[1;36m90\u001b[0m\u001b[1;33m,\u001b[0m \u001b[1;36m2\u001b[0m\u001b[1;33m]\u001b[0m\u001b[1;33m)\u001b[0m\u001b[1;33m\u001b[0m\u001b[1;33m\u001b[0m\u001b[0m\n\u001b[0;32m      3\u001b[0m \u001b[1;33m\u001b[0m\u001b[0m\n\u001b[1;32m----> 4\u001b[1;33m \u001b[0mprint\u001b[0m\u001b[1;33m(\u001b[0m\u001b[1;34m'Вариационный ряд'\u001b[0m\u001b[1;33m,\u001b[0m \u001b[0mnp\u001b[0m\u001b[1;33m.\u001b[0m\u001b[0m___\u001b[0m\u001b[1;33m(\u001b[0m\u001b[0mx\u001b[0m\u001b[1;33m)\u001b[0m\u001b[1;33m)\u001b[0m\u001b[1;33m\u001b[0m\u001b[1;33m\u001b[0m\u001b[0m\n\u001b[0m\u001b[0;32m      5\u001b[0m \u001b[0mprint\u001b[0m\u001b[1;33m(\u001b[0m\u001b[1;34m'Математическое ожидание'\u001b[0m\u001b[1;33m,\u001b[0m \u001b[0mnp\u001b[0m\u001b[1;33m.\u001b[0m\u001b[0m___\u001b[0m\u001b[1;33m(\u001b[0m\u001b[0mx\u001b[0m\u001b[1;33m)\u001b[0m\u001b[1;33m)\u001b[0m\u001b[1;33m\u001b[0m\u001b[1;33m\u001b[0m\u001b[0m\n\u001b[0;32m      6\u001b[0m \u001b[0mprint\u001b[0m\u001b[1;33m(\u001b[0m\u001b[1;34m'Смещённая дисперсия'\u001b[0m\u001b[1;33m,\u001b[0m \u001b[0mnp\u001b[0m\u001b[1;33m.\u001b[0m\u001b[0m___\u001b[0m\u001b[1;33m(\u001b[0m\u001b[0mx\u001b[0m\u001b[1;33m)\u001b[0m\u001b[1;33m)\u001b[0m\u001b[1;33m\u001b[0m\u001b[1;33m\u001b[0m\u001b[0m\n",
      "\u001b[1;31mAttributeError\u001b[0m: module 'numpy' has no attribute '___'"
     ]
    }
   ],
   "source": [
    "# Выборка\n",
    "x = np.array([2, 8, 20, 65, 80, 23, 60, 90, 37, 2, 23, 90, 2])\n",
    "\n",
    "print('Вариационный ряд', np.___(x))\n",
    "print('Математическое ожидание', np.___(x))\n",
    "print('Смещённая дисперсия', np.___(x))\n",
    "print('Стандартное отклонение', np.___(x))\n",
    "print('Медиана', np.___(x))\n",
    "print('Начальный выборочный момент 4 порядка', np.mean(___))"
   ]
  },
  {
   "cell_type": "code",
   "execution_count": 86,
   "metadata": {},
   "outputs": [
    {
     "name": "stdout",
     "output_type": "stream",
     "text": [
      "Вариационный ряд [ 2  2  2  8 20 23 23 37 60 65 80 90 90]\n",
      "Математическое ожидание 38.61538461538461\n",
      "Смещённая дисперсия 1072.5443786982248\n",
      "Стандартное отклонение 32.74972333773562\n",
      "Медиана 23.0\n",
      "Начальный выборочный момент 4 порядка 15814508.615384616\n"
     ]
    }
   ],
   "source": [
    "# answer\n",
    "# Выборка\n",
    "x = np.array([2, 8, 20, 65, 80, 23, 60, 90, 37, 2, 23, 90, 2])\n",
    "\n",
    "print('Вариационный ряд', np.sort(x))\n",
    "print('Математическое ожидание', np.mean(x))\n",
    "print('Смещённая дисперсия', np.var(x))\n",
    "print('Стандартное отклонение', np.std(x))\n",
    "print('Медиана', np.median(x))\n",
    "print('Начальный выборочный момент 4 порядка', np.mean(x ** 4))"
   ]
  },
  {
   "cell_type": "markdown",
   "metadata": {},
   "source": [
    "# 4"
   ]
  },
  {
   "cell_type": "markdown",
   "metadata": {},
   "source": [
    "Для проведения исследования, ученые собрали данных о выборах в Аргентине в период 1983-2007 гг, когда предыдущий президент переизбирался на второй или третий и т.д срок и посмотрели на разницу процента голосов отданных за него, и за его главного конкурента назвав эту переменную winning margin, а также собрали данные об темпах роста ВВП за год до выборов."
   ]
  },
  {
   "cell_type": "markdown",
   "metadata": {},
   "source": [
    "Библиотека Pandas - отдельная большая тема. Тут ваша задача - вручную перебить значения."
   ]
  },
  {
   "cell_type": "markdown",
   "metadata": {},
   "source": [
    "1. Найдите число наблюдений в данном датасэте\n",
    "\n",
    "2. Постройте вариационный ряд значений winning margin\n",
    "\n",
    "3. Постройте эмпирическую функцию распределения. \n",
    "\n",
    "4. Посчитайте среднее, несмещённую дисперсию и стандартное отклонение (для несмещённой дисперсии) для темпов роста ВВП\n",
    "\n",
    "5. Найдите 25% и 75% квантили для доли GdpGrowth-1\n",
    "\n",
    "6. Посчитайте корреляцию между Winning margin и GdpGrowtht-1 \n"
   ]
  },
  {
   "cell_type": "code",
   "execution_count": 108,
   "metadata": {},
   "outputs": [],
   "source": [
    "winning_margin = np.array([6.20, 8.60, 1.10, 7.30, 16.60, 99.42])\n",
    "gdp_growth = np.array([-0.043, -0.029, 0.050, -0.008, -0.147, 0.070])"
   ]
  },
  {
   "cell_type": "code",
   "execution_count": 110,
   "metadata": {},
   "outputs": [
    {
     "name": "stdout",
     "output_type": "stream",
     "text": [
      "Число наблюденй -  6\n",
      "Вариационный ряд [ 1.1   6.2   7.3   8.6  16.6  99.42]\n"
     ]
    }
   ],
   "source": [
    "print('Число наблюденй - ', len(winning_margin))\n",
    "print('Вариационный ряд', np.sort(winning_margin))"
   ]
  },
  {
   "cell_type": "markdown",
   "metadata": {},
   "source": [
    "Эмпирическая функция распределения?"
   ]
  },
  {
   "cell_type": "code",
   "execution_count": 106,
   "metadata": {},
   "outputs": [
    {
     "data": {
      "image/png": "[encoded data removed]",
      "text/plain": [
       "<Figure size 432x288 with 1 Axes>"
      ]
     },
     "metadata": {
      "needs_background": "light"
     },
     "output_type": "display_data"
    }
   ],
   "source": [
    "import numpy as np\n",
    "import statsmodels.api as sm \n",
    "import matplotlib.pyplot as plt\n",
    "\n",
    "sample = np.sort(np.array([1, 4, 5, 6, 5, 7, 5, 7, 9, 15, 8, 5, 6 ,7 ,8]))\n",
    "ecdf = sm.distributions.empirical_distribution.ECDF(sample)\n",
    "\n",
    "x = sample\n",
    "y = ecdf(x)\n",
    "plt.step(x, y)\n",
    "plt.xlim(-10, 20)\n",
    "plt.ylim(0, 1.1)\n",
    "plt.show()"
   ]
  },
  {
   "cell_type": "code",
   "execution_count": 100,
   "metadata": {},
   "outputs": [
    {
     "data": {
      "image/png": "[encoded data removed]",
      "text/plain": [
       "<Figure size 432x288 with 1 Axes>"
      ]
     },
     "metadata": {
      "needs_background": "light"
     },
     "output_type": "display_data"
    }
   ],
   "source": [
    "import numpy as np\n",
    "import statsmodels.api as sm # recommended import according to the docs\n",
    "import matplotlib.pyplot as plt\n",
    "\n",
    "sample = np.random.normal(5, 10, 10)\n",
    "ecdf = sm.distributions.ECDF(sample)\n",
    "\n",
    "x = np.linspace(min(sample), max(sample))\n",
    "y = ecdf(x)\n",
    "plt.step(x, y)\n",
    "plt.show()"
   ]
  },
  {
   "cell_type": "code",
   "execution_count": 111,
   "metadata": {},
   "outputs": [
    {
     "name": "stdout",
     "output_type": "stream",
     "text": [
      "Для темпов роста ВВП:\n",
      "Среднее -0.01783333333333333\n",
      "Несмещённая дисперсия 65610000\n",
      "Стандартное отклонение, равное корню из несмещённой дисперсии 65610000\n"
     ]
    }
   ],
   "source": [
    "print('Для темпов роста ВВП:')\n",
    "print('Среднее', gdp_growth.___())\n",
    "otklon = gdp_growth - ___ # тут должно быть среднее \n",
    "var = np.___(____ ** 2) / (len(gdp_growth) - 1) # запишите формулу для подсчёта несмещённой дисперсии\n",
    "print('Несмещённая дисперсия', var)\n",
    "print('Стандартное отклонение, равное корню из несмещённой дисперсии', var ** ___)"
   ]
  },
  {
   "cell_type": "code",
   "execution_count": null,
   "metadata": {},
   "outputs": [],
   "source": [
    "# answers\n",
    "print('Для темпов роста ВВП:')\n",
    "print('Среднее', gdp_growth.mean())\n",
    "otklon = gdp_growth - gdp_growth.mean() # тут должно быть среднее \n",
    "var = np.sum(otklon ** 2) / (len(gdp_growth) - 1)\n",
    "print('Несмещённая дисперсия', var)\n",
    "print('Стандартное отклонение, равное корню из несмещённой дисперсии', var ** 0.5)"
   ]
  },
  {
   "cell_type": "markdown",
   "metadata": {},
   "source": [
    "Квантили (<i>np.quantile(массив, квантиль)</i>) и корелляция (<i>np.correlate(два массива)</i>)"
   ]
  },
  {
   "cell_type": "code",
   "execution_count": 120,
   "metadata": {},
   "outputs": [
    {
     "ename": "AttributeError",
     "evalue": "module 'numpy' has no attribute '____'",
     "output_type": "error",
     "traceback": [
      "\u001b[1;31m---------------------------------------------------------------------------\u001b[0m",
      "\u001b[1;31mAttributeError\u001b[0m                            Traceback (most recent call last)",
      "\u001b[1;32m<ipython-input-120-65d624eb2437>\u001b[0m in \u001b[0;36m<module>\u001b[1;34m\u001b[0m\n\u001b[1;32m----> 1\u001b[1;33m \u001b[0mprint\u001b[0m\u001b[1;33m(\u001b[0m\u001b[1;34m'25% Квантиль'\u001b[0m\u001b[1;33m,\u001b[0m \u001b[0mnp\u001b[0m\u001b[1;33m.\u001b[0m\u001b[0m____\u001b[0m\u001b[1;33m(\u001b[0m\u001b[0mgdp_growth\u001b[0m\u001b[1;33m,\u001b[0m \u001b[0m___\u001b[0m\u001b[1;33m)\u001b[0m\u001b[1;33m)\u001b[0m\u001b[1;33m\u001b[0m\u001b[1;33m\u001b[0m\u001b[0m\n\u001b[0m\u001b[0;32m      2\u001b[0m \u001b[0mprint\u001b[0m\u001b[1;33m(\u001b[0m\u001b[1;34m'75% Квантиль'\u001b[0m\u001b[1;33m,\u001b[0m \u001b[0mnp\u001b[0m\u001b[1;33m.\u001b[0m\u001b[0m____\u001b[0m\u001b[1;33m(\u001b[0m\u001b[0mgdp_growth\u001b[0m\u001b[1;33m,\u001b[0m \u001b[0m___\u001b[0m\u001b[1;33m)\u001b[0m\u001b[1;33m)\u001b[0m\u001b[1;33m\u001b[0m\u001b[1;33m\u001b[0m\u001b[0m\n\u001b[0;32m      3\u001b[0m \u001b[0mprint\u001b[0m\u001b[1;33m(\u001b[0m\u001b[1;34m'Корелляция'\u001b[0m\u001b[1;33m,\u001b[0m \u001b[0mnp\u001b[0m\u001b[1;33m.\u001b[0m\u001b[0m___\u001b[0m\u001b[1;33m(\u001b[0m\u001b[0m___\u001b[0m\u001b[1;33m,\u001b[0m \u001b[0m___\u001b[0m\u001b[1;33m)\u001b[0m\u001b[1;33m[\u001b[0m\u001b[1;36m0\u001b[0m\u001b[1;33m]\u001b[0m\u001b[1;33m)\u001b[0m\u001b[1;33m\u001b[0m\u001b[1;33m\u001b[0m\u001b[0m\n",
      "\u001b[1;31mAttributeError\u001b[0m: module 'numpy' has no attribute '____'"
     ]
    }
   ],
   "source": [
    "print('25% Квантиль', np.____(gdp_growth, ___))\n",
    "print('75% Квантиль', np.____(gdp_growth, ___))\n",
    "print('Корелляция', np.___(___, ___)[0])"
   ]
  },
  {
   "cell_type": "code",
   "execution_count": 121,
   "metadata": {},
   "outputs": [
    {
     "name": "stdout",
     "output_type": "stream",
     "text": [
      "25% Квантиль -0.0395\n",
      "75% Квантиль 0.035500000000000004\n",
      "Корелляция 3.9998000000000005\n"
     ]
    }
   ],
   "source": [
    "# answers\n",
    "print('25% Квантиль', np.quantile(gdp_growth, 0.25))\n",
    "print('75% Квантиль', np.quantile(gdp_growth, 0.75))\n",
    "print('Корелляция', np.correlate(winning_margin, gdp_growth)[0])"
   ]
  },
  {
   "cell_type": "markdown",
   "metadata": {},
   "source": [
    "# 5"
   ]
  },
  {
   "cell_type": "markdown",
   "metadata": {},
   "source": [
    "Среднее оценка студентов за контрольную работу равна 5, стандартное отклонение равно 3. \n",
    "\n",
    "1.\tЗагрузите пакет numpy и сгенерируйте выборку из нормального распределения с параметрами N(5,9) и n=100\n",
    "\n",
    "2.\tПредположим, что сгенерированная вами выборка, это результаты студентов за недавно проведенную контрольную работу. Найдите среднее по этой выборке\n",
    "\n",
    "3.\tНайдите дисперсию оценок в этой выборке\n",
    "\n",
    "4.\tНайдите квантили порядка 0.5, 0.95, 0.99\n"
   ]
  },
  {
   "cell_type": "code",
   "execution_count": 126,
   "metadata": {},
   "outputs": [
    {
     "name": "stdout",
     "output_type": "stream",
     "text": [
      "[ 10.8733016   14.96250336  28.70993254   5.76125584   3.2013991\n",
      "  15.40650117  -2.84187954  -1.19483515  -6.08301568  17.21415686\n",
      "  -7.35889223   4.69807269  18.99324923  -5.80270116   7.43397708\n",
      "  15.60615989   2.24355203  -2.62139155  10.07224193  11.02222385\n",
      "  17.09288737  11.36918964  10.57447518   5.95583757  -6.67446811\n",
      "  17.64657095  18.98903226   7.57738268   9.86348974   6.44693809\n",
      "   3.2989294   14.28506579  -3.84709967  -6.29208779   3.43252394\n",
      "  -5.43684044  13.9896297   16.02290733  -6.59978712  16.18243782\n",
      "  19.54819908   1.64782675   1.6033022   -7.73635597   2.44130882\n",
      "   2.28054285   0.51733629  11.20654399  21.86338974   2.49199838\n",
      "   7.08535712   6.56785825  12.62547926   1.02643466  16.03952237\n",
      "  10.37674829  -5.59951386  16.72176416  12.26975115  15.56477848\n",
      "   0.94248819  -1.69683391  -3.03747793  -4.80424634  -3.28786653\n",
      "  15.95237245  14.85150849   3.63770675  10.39093451  10.37274406\n",
      "  -3.99227356  16.71052588 -20.01900033  11.14449724  -8.26550841\n",
      "  -2.48472756   4.1674323    6.16176802   1.46904275  17.94179511\n",
      "   4.2071655    3.98920962  10.05369468   2.800767    19.26682713\n",
      "  -7.96096564   3.5927771   -2.55761329   1.28684749   3.01014047\n",
      "  10.40375951  -7.33559375   6.95936803  13.76326033  16.31685712\n",
      "   3.79695851  -2.58871041  18.81442831  -4.2672764   11.87522362]\n"
     ]
    }
   ],
   "source": [
    "random = np.random.normal(5, 9, 100)\n",
    "print(random)"
   ]
  },
  {
   "cell_type": "code",
   "execution_count": 127,
   "metadata": {},
   "outputs": [
    {
     "name": "stdout",
     "output_type": "stream",
     "text": [
      "Среднее 6.042971043308098\n"
     ]
    }
   ],
   "source": [
    "print('Среднее', random.mean())"
   ]
  },
  {
   "cell_type": "code",
   "execution_count": 128,
   "metadata": {},
   "outputs": [
    {
     "name": "stdout",
     "output_type": "stream",
     "text": [
      "Дисперсия 79.16173679332833\n"
     ]
    }
   ],
   "source": [
    "print('Дисперсия', random.var())"
   ]
  },
  {
   "cell_type": "code",
   "execution_count": 129,
   "metadata": {},
   "outputs": [
    {
     "name": "stdout",
     "output_type": "stream",
     "text": [
      "50% Квантиль 5.858546705664903\n",
      "95% Квантиль 18.989243112455494\n",
      "99% Квантиль 21.931855167401658\n"
     ]
    }
   ],
   "source": [
    "print('50% Квантиль', np.quantile(random, 0.5))\n",
    "print('95% Квантиль', np.quantile(random, 0.95))\n",
    "print('99% Квантиль', np.quantile(random, 0.99))"
   ]
  },
  {
   "cell_type": "code",
   "execution_count": null,
   "metadata": {},
   "outputs": [],
   "source": []
  },
  {
   "cell_type": "markdown",
   "metadata": {},
   "source": [
    "# 6"
   ]
  },
  {
   "cell_type": "markdown",
   "metadata": {},
   "source": [
    "В этой задаче мы научимся считать вероятности, если нам дано нормальное распределение\n",
    "\n",
    "Дневная добыча нефти в некотором месторождении распределена по нормальному закону с математическим ожиданием 100 тысяч баррелей и стандартным отклонением 22 тысячи баррелей.\n",
    "\n",
    "Здесь мы воспользуемся библиотекой scipy!"
   ]
  },
  {
   "cell_type": "markdown",
   "metadata": {},
   "source": [
    "а) Найдите вероятность того, что в определенный день будут добыты по крайней мере 110 тысяч баррелей нефти.\n",
    "\n",
    "б) Определите долю рабочих дней, в которые будет добыто от 70 до 105 тысяч баррелей нефти.\n",
    "\n",
    "в) Найдите вероятность того, что в данный день добыча нефти окажется ниже 65 тысяч баррелей.\n"
   ]
  },
  {
   "cell_type": "code",
   "execution_count": 131,
   "metadata": {},
   "outputs": [],
   "source": [
    "import scipy.stats as sts\n",
    "from scipy.stats import norm"
   ]
  },
  {
   "cell_type": "markdown",
   "metadata": {},
   "source": [
    "Пример: Для нормально распределенной случайной величины с мат. ожиданием 1 и дисперсией 4 вероятность принять значение меньше X вычисляется так:\n",
    "\n",
    "<i>sts.norm(1, 4).cdf(X)</i>"
   ]
  },
  {
   "cell_type": "code",
   "execution_count": 132,
   "metadata": {},
   "outputs": [
    {
     "name": "stdout",
     "output_type": "stream",
     "text": [
      "0.4917579773020937\n"
     ]
    }
   ],
   "source": [
    "# a\n",
    "# Функция в scipy считает \"левый хвост\". Вспомним, что P(Z <= x) = 1 - P(Z < x)\n",
    "\n",
    "print(1 - sts.norm(100, 22 ** 2).cdf(110))"
   ]
  },
  {
   "cell_type": "code",
   "execution_count": 135,
   "metadata": {},
   "outputs": [
    {
     "name": "stdout",
     "output_type": "stream",
     "text": [
      "0.028833233815443393\n"
     ]
    }
   ],
   "source": [
    "# б\n",
    "# Необходимо найти площадь, ограниченную слева 70-ю тысячами баррелей, а справа - 105-ю.\n",
    "\n",
    "print(sts.norm(100, 22 ** 2).cdf(105) - sts.norm(100, 22 ** 2).cdf(70))"
   ]
  },
  {
   "cell_type": "code",
   "execution_count": 138,
   "metadata": {},
   "outputs": [
    {
     "name": "stdout",
     "output_type": "stream",
     "text": [
      "0.47117599200801596\n"
     ]
    }
   ],
   "source": [
    "# в\n",
    "print(sts.norm(100, 22 ** 2).cdf(65))"
   ]
  },
  {
   "cell_type": "code",
   "execution_count": null,
   "metadata": {},
   "outputs": [],
   "source": []
  },
  {
   "cell_type": "code",
   "execution_count": null,
   "metadata": {},
   "outputs": [],
   "source": []
  },
  {
   "cell_type": "code",
   "execution_count": null,
   "metadata": {},
   "outputs": [],
   "source": []
  },
  {
   "cell_type": "code",
   "execution_count": null,
   "metadata": {},
   "outputs": [],
   "source": []
  },
  {
   "cell_type": "code",
   "execution_count": null,
   "metadata": {},
   "outputs": [],
   "source": []
  }
 ],
 "metadata": {
  "kernelspec": {
   "display_name": "Python 3",
   "language": "python",
   "name": "python3"
  },
  "language_info": {
   "codemirror_mode": {
    "name": "ipython",
    "version": 3
   },
   "file_extension": ".py",
   "mimetype": "text/x-python",
   "name": "python",
   "nbconvert_exporter": "python",
   "pygments_lexer": "ipython3",
   "version": "3.7.6"
  }
 },
 "nbformat": 4,
 "nbformat_minor": 2
}
